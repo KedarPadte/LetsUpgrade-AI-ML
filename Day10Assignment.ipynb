{
 "cells": [
  {
   "cell_type": "code",
   "execution_count": 3,
   "metadata": {},
   "outputs": [
    {
     "name": "stdout",
     "output_type": "stream",
     "text": [
      "Orignal arrays are:-\n",
      "[3 4 5 6 9]\n",
      "[1 2 7 8 9]\n",
      "Comparison-greater\n",
      "[ True  True False False False]\n",
      "Comparison-greater_equal\n",
      "[ True  True False False  True]\n",
      "Comparison-less\n",
      "[False False  True  True False]\n",
      "Comparison-less_equal\n",
      "[False False  True  True  True]\n"
     ]
    }
   ],
   "source": [
    "import numpy as np\n",
    "arr1 = np.array([3,4,5,6,9])\n",
    "arr2 = np.array([1,2,7,8,9])\n",
    "print(\"Orignal arrays are:-\")\n",
    "print(arr1)\n",
    "print(arr2)\n",
    "print(\"Comparison-greater\")\n",
    "print(np.greater(arr1,arr2))\n",
    "print(\"Comparison-greater_equal\")\n",
    "print(np.greater_equal(arr1,arr2))\n",
    "print(\"Comparison-less\")\n",
    "print(np.less(arr1,arr2))\n",
    "print(\"Comparison-less_equal\")\n",
    "print(np.less_equal(arr1,arr2))"
   ]
  },
  {
   "cell_type": "code",
   "execution_count": 7,
   "metadata": {},
   "outputs": [
    {
     "name": "stdout",
     "output_type": "stream",
     "text": [
      "An array of 10 zeros:\n",
      "[0. 0. 0. 0. 0. 0. 0. 0. 0. 0.]\n",
      "An array of 10 ones:\n",
      "[1. 1. 1. 1. 1. 1. 1. 1. 1. 1.]\n",
      "An array of 10 fives:\n",
      "[5. 5. 5. 5. 5. 5. 5. 5. 5. 5.]\n"
     ]
    }
   ],
   "source": [
    "import numpy as np\n",
    "print(\"An array of 10 zeros:\")\n",
    "print(np.zeros(10))\n",
    "print(\"An array of 10 ones:\")\n",
    "print(np.ones(10))\n",
    "print(\"An array of 10 fives:\")\n",
    "print(np.ones(10)*5)\n"
   ]
  },
  {
   "cell_type": "code",
   "execution_count": 10,
   "metadata": {},
   "outputs": [
    {
     "name": "stdout",
     "output_type": "stream",
     "text": [
      "Original array:\n",
      "[[1 2]\n",
      " [5 6]]\n",
      "Sum of all elements:\n",
      "14\n",
      "Sum of each column:\n",
      "[6 8]\n",
      "Sum of each row:\n",
      "[ 3 11]\n"
     ]
    }
   ],
   "source": [
    "import numpy as np\n",
    "x = np.array([[1,2],[5,6]])\n",
    "print(\"Original array:\")\n",
    "print(x)\n",
    "print(\"Sum of all elements:\")\n",
    "print(np.sum(x))\n",
    "print(\"Sum of each column:\")\n",
    "print(np.sum(x, axis=0))\n",
    "print(\"Sum of each row:\")\n",
    "print(np.sum(x, axis=1))"
   ]
  },
  {
   "cell_type": "code",
   "execution_count": 12,
   "metadata": {},
   "outputs": [
    {
     "name": "stdout",
     "output_type": "stream",
     "text": [
      "Add:\n",
      "10\n",
      "Subtract:\n",
      "-4\n",
      "Multiply:\n",
      "21\n",
      "Divide:\n",
      "0.42857142857142855\n"
     ]
    }
   ],
   "source": [
    "import numpy as np\n",
    "print(\"Add:\")\n",
    "print(np.add(3, 7))\n",
    "print(\"Subtract:\")\n",
    "print(np.subtract(3,7))\n",
    "print(\"Multiply:\")\n",
    "print(np.multiply(3, 7))\n",
    "print(\"Divide:\")\n",
    "print(np.divide(3, 7))\n"
   ]
  },
  {
   "cell_type": "code",
   "execution_count": 14,
   "metadata": {},
   "outputs": [
    {
     "name": "stdout",
     "output_type": "stream",
     "text": [
      "sine: array of angles given in degrees\n",
      "[0.         0.5        0.70710678 0.8660254  1.        ]\n",
      "cosine: array of angles given in degrees\n",
      "[1.00000000e+00 8.66025404e-01 7.07106781e-01 5.00000000e-01\n",
      " 6.12323400e-17]\n",
      "tangent: array of angles given in degrees\n",
      "[0.00000000e+00 5.77350269e-01 1.00000000e+00 1.73205081e+00\n",
      " 1.63312394e+16]\n"
     ]
    }
   ],
   "source": [
    "import numpy as np\n",
    "print(\"sine: array of angles given in degrees\")\n",
    "print(np.sin(np.array((0, 30, 45, 60, 90)) * np.pi / 180))\n",
    "print(\"cosine: array of angles given in degrees\")\n",
    "print(np.cos(np.array((0, 30, 45, 60, 90)) * np.pi / 180))\n",
    "print(\"tangent: array of angles given in degrees\")\n",
    "print(np.tan(np.array((0, 30, 45, 60, 90)) * np.pi / 180))"
   ]
  },
  {
   "cell_type": "code",
   "execution_count": 23,
   "metadata": {},
   "outputs": [
    {
     "name": "stdout",
     "output_type": "stream",
     "text": [
      "       Name       Country  Goals  Assists  Rating\n",
      "1   Rodrigo         Spain     10        0     7.0\n",
      "2     Sadio       Senegal     21        9     9.0\n",
      "3     Kevin       Belgium     16       14     9.0\n",
      "4      Timo       Germany     20        4     8.0\n",
      "5    Pierre         Gabon     22        5     8.5\n",
      "6     Jamie       England     24        1     8.0\n",
      "7    Marcus       England     14        4     7.5\n",
      "8     Harry       England     18        2     7.5\n",
      "9    Callum       England      6        1     6.0\n",
      "10  Wilfred   Ivory Coast      7        7     6.5\n"
     ]
    }
   ],
   "source": [
    "import pandas as pd\n",
    "import numpy as np\n",
    "\n",
    "goal_data  = {'Name': ['Rodrigo', 'Sadio', 'Kevin', 'Timo', 'Pierre', 'Jamie', 'Marcus', 'Harry', 'Callum', 'Wilfred'],\n",
    "        'Country':['Spain','Senegal','Belgium','Germany','Gabon','England','England','England','England',' Ivory Coast'],\n",
    "        'Goals': [10, 21, 16, 20, 22, 24, 14, 18, 6, 7],\n",
    "        'Assists': [0, 9 ,14, 4, 5, 1, 4, 2, 1, 7],\n",
    "        'Rating': [7, 9, 9, 8, 8.5 ,8 , 7.5 , 7.5, 6, 6.5 ]}\n",
    "labels = [1, 2, 3, 4, 5, 6, 7, 8, 9, 10]\n",
    "\n",
    "Dframe = pd.DataFrame(goal_data , index=labels)\n",
    "print(Dframe)"
   ]
  },
  {
   "cell_type": "code",
   "execution_count": 27,
   "metadata": {},
   "outputs": [
    {
     "name": "stdout",
     "output_type": "stream",
     "text": [
      "       Name       Country  Goals  Assists  Score\n",
      "1   Rodrigo         Spain     10        0    7.0\n",
      "2     Sadio       Senegal     21        9    9.0\n",
      "3     Kevin       Belgium     16       14    9.0\n",
      "4      Timo       Germany     20        4    8.0\n",
      "5    Pierre         Gabon     22        5    8.5\n",
      "6     Jamie       England     24        1    8.0\n",
      "7    Marcus       England     14        4    7.5\n",
      "8     Harry       England     18        2    7.5\n",
      "9    Callum       England      6        1    6.0\n",
      "10  Wilfred   Ivory Coast      7        7    6.5\n",
      "Selecting Name and Score:\n",
      "       Name  Score\n",
      "1   Rodrigo    7.0\n",
      "2     Sadio    9.0\n",
      "3     Kevin    9.0\n",
      "4      Timo    8.0\n",
      "5    Pierre    8.5\n",
      "6     Jamie    8.0\n",
      "7    Marcus    7.5\n",
      "8     Harry    7.5\n",
      "9    Callum    6.0\n",
      "10  Wilfred    6.5\n"
     ]
    }
   ],
   "source": [
    "#selecting Name and Score\n",
    "import pandas as pd\n",
    "import numpy as np\n",
    "\n",
    "goal_data  = {'Name': ['Rodrigo', 'Sadio', 'Kevin', 'Timo', 'Pierre', 'Jamie', 'Marcus', 'Harry', 'Callum', 'Wilfred'],\n",
    "        'Country':['Spain','Senegal','Belgium','Germany','Gabon','England','England','England','England',' Ivory Coast'],\n",
    "        'Goals': [10, 21, 16, 20, 22, 24, 14, 18, 6, 7],\n",
    "        'Assists': [0, 9 ,14, 4, 5, 1, 4, 2, 1, 7],\n",
    "        'Score': [7, 9, 9, 8, 8.5 ,8 , 7.5 , 7.5, 6, 6.5 ]}\n",
    "labels = [1, 2, 3, 4, 5, 6, 7, 8, 9, 10]\n",
    "\n",
    "Dframe = pd.DataFrame(goal_data , index=labels)\n",
    "print(Dframe)\n",
    "print('Selecting Name and Score:')\n",
    "print(Dframe[['Name','Score']])"
   ]
  },
  {
   "cell_type": "code",
   "execution_count": 32,
   "metadata": {},
   "outputs": [
    {
     "name": "stdout",
     "output_type": "stream",
     "text": [
      "Original DataFrames:\n",
      "  Book_id               Name  Cost\n",
      "0      B1       Harry Potter  1000\n",
      "1      B2  Lord Of The Rings  2010\n",
      "2      B3        Maze Runner   790\n",
      "3      B4       Hunger Games  1200\n",
      "4      B5                You   699\n",
      "____________________________________\n",
      "  Book_id                Name  Cost\n",
      "0      B6       ABC Murderers   200\n",
      "1      B7           Deep Work   250\n",
      "2      B8       Da Vinci Code   499\n",
      "3      B9           Divergent  1000\n",
      "4    SB10  Bring on the Noise   500\n",
      "\n",
      "Join the said two dataframes along rows:\n",
      "  Book_id                Name  Cost\n",
      "0      B1        Harry Potter  1000\n",
      "1      B2   Lord Of The Rings  2010\n",
      "2      B3         Maze Runner   790\n",
      "3      B4        Hunger Games  1200\n",
      "4      B5                 You   699\n",
      "0      B6       ABC Murderers   200\n",
      "1      B7           Deep Work   250\n",
      "2      B8       Da Vinci Code   499\n",
      "3      B9           Divergent  1000\n",
      "4    SB10  Bring on the Noise   500\n"
     ]
    }
   ],
   "source": [
    "import pandas as pd\n",
    "\n",
    "book_data1 = pd.DataFrame({\n",
    "        'Book_id': ['B1', 'B2', 'B3', 'B4', 'B5'],\n",
    "        'Name': ['Harry Potter', 'Lord Of The Rings', 'Maze Runner', 'Hunger Games', 'You'], \n",
    "        'Cost': [1000, 2010, 790, 1200, 699]})\n",
    "\n",
    "book_data2 = pd.DataFrame({\n",
    "        'Book_id': ['B6', 'B7', 'B8', 'B9', 'SB10'],\n",
    "        'Name': ['ABC Murderers', 'Deep Work', 'Da Vinci Code', 'Divergent', 'Bring on the Noise'], \n",
    "        'Cost': [200, 250, 499, 1000, 500]})\n",
    "\n",
    "print(\"Original DataFrames:\")\n",
    "print(book_data1)\n",
    "print(\"____________________________________\")\n",
    "print(book_data2)\n",
    "print(\"\\nJoin the said two dataframes along rows:\")\n",
    "result_data = pd.concat([book_data1, book_data2])\n",
    "print(result_data)"
   ]
  },
  {
   "cell_type": "code",
   "execution_count": 41,
   "metadata": {},
   "outputs": [
    {
     "name": "stdout",
     "output_type": "stream",
     "text": [
      "       Name       Country  Goals  Assists  Score\n",
      "1   Rodrigo         Spain   10.0      0.0    NaN\n",
      "2     Sadio           NaN   21.0      9.0    9.0\n",
      "3     Kevin       Belgium   16.0      NaN    9.0\n",
      "4      Timo       Germany   20.0      4.0    8.0\n",
      "5       NaN         Gabon   22.0      5.0    8.5\n",
      "6     Jamie       England   24.0      1.0    8.0\n",
      "7    Marcus       England   14.0      4.0    7.5\n",
      "8     Harry           NaN    NaN      2.0    7.5\n",
      "9       NaN       England    6.0      1.0    6.0\n",
      "10  Wilfred   Ivory Coast    7.0      7.0    6.5\n",
      "\n",
      "Missing values of the said dataframe:\n",
      "     Name  Country  Goals  Assists  Score\n",
      "1   False    False  False    False   True\n",
      "2   False     True  False    False  False\n",
      "3   False    False  False     True  False\n",
      "4   False    False  False    False  False\n",
      "5    True    False  False    False  False\n",
      "6   False    False  False    False  False\n",
      "7   False    False  False    False  False\n",
      "8   False     True   True    False  False\n",
      "9    True    False  False    False  False\n",
      "10  False    False  False    False  False\n"
     ]
    }
   ],
   "source": [
    "import pandas as pd\n",
    "import numpy as np\n",
    "pd.set_option('display.max_rows', None)\n",
    "goal_data  = {'Name': ['Rodrigo', 'Sadio', 'Kevin', 'Timo', np.nan, 'Jamie', 'Marcus', 'Harry', np.nan, 'Wilfred'],\n",
    "        'Country':['Spain',np.nan,'Belgium','Germany','Gabon','England','England',np.nan,'England',' Ivory Coast'],\n",
    "        'Goals': [10, 21, 16, 20, 22, 24, 14, np.nan, 6, 7],\n",
    "        'Assists': [0, 9 ,np.nan, 4, 5, 1, 4, 2, 1, 7],\n",
    "        'Score': [np.nan, 9, 9, 8, 8.5 ,8 , 7.5 , 7.5, 6, 6.5 ]}\n",
    "labels = [1, 2, 3, 4, 5, 6, 7, 8, 9, 10]\n",
    "\n",
    "Dframe = pd.DataFrame(goal_data , index=labels)\n",
    "print(Dframe)\n",
    "print(\"\\nMissing values of the said dataframe:\")\n",
    "print(Dframe.isna())"
   ]
  },
  {
   "cell_type": "code",
   "execution_count": 45,
   "metadata": {},
   "outputs": [
    {
     "name": "stdout",
     "output_type": "stream",
     "text": [
      "0     2\n",
      "1     3\n",
      "2     5\n",
      "3     7\n",
      "4    11\n",
      "5    13\n",
      "dtype: int64\n"
     ]
    }
   ],
   "source": [
    "import pandas as pd\n",
    "ds = pd.Series([2, 3, 5, 7, 11, 13])\n",
    "print(ds)\n"
   ]
  }
 ],
 "metadata": {
  "kernelspec": {
   "display_name": "Python 3",
   "language": "python",
   "name": "python3"
  },
  "language_info": {
   "codemirror_mode": {
    "name": "ipython",
    "version": 3
   },
   "file_extension": ".py",
   "mimetype": "text/x-python",
   "name": "python",
   "nbconvert_exporter": "python",
   "pygments_lexer": "ipython3",
   "version": "3.8.3"
  }
 },
 "nbformat": 4,
 "nbformat_minor": 4
}

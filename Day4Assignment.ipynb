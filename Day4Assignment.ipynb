{
 "cells": [
  {
   "cell_type": "markdown",
   "metadata": {},
   "source": [
    "# Apart from floor divison and modulo operations,all other mathematical operations are possible on complex numbers in python as depicted below\n"
   ]
  },
  {
   "cell_type": "code",
   "execution_count": 3,
   "metadata": {},
   "outputs": [
    {
     "name": "stdout",
     "output_type": "stream",
     "text": [
      "Enter a complex Number:2+3j\n",
      "Enter another complex Number:-6-2j\n",
      "The Mathematical operations which can be done on complex numbers in python are:\n",
      "Addition of the two complex numbers is: (-4+1j)\n",
      "Subtraction of the two complex numbers gives: (8+5j)\n",
      "Multiplication of the two complex numbers is: (-6-22j)\n",
      "Divison of the two complex numbers is: (-0.44999999999999996-0.35000000000000003j)\n"
     ]
    }
   ],
   "source": [
    "a=complex(input('Enter a complex Number:'))\n",
    "b=complex(input('Enter another complex Number:'))\n",
    "c=a+b\n",
    "d=a-b\n",
    "e=a*b\n",
    "f=a/b\n",
    "print('The Mathematical operations which can be done on complex numbers in python are:')\n",
    "print('Addition of the two complex numbers is:',c)\n",
    "print('Subtraction of the two complex numbers gives:',d)\n",
    "print('Multiplication of the two complex numbers is:',e)\n",
    "print('Divison of the two complex numbers is:',f)\n"
   ]
  },
  {
   "cell_type": "markdown",
   "metadata": {},
   "source": [
    "# range() is a built-in function in python which returns a sequence of numbers ending at the user specified number which can be done by passing an argument.\n",
    "# range() is always used with an iterable(list,tuple ,etc)\n",
    "## Parameters of range function\n",
    "### 1)Start- lower limit\n",
    "### 2)Stop- upper limit,It is not included ,numbers upto this number will be included.\n",
    "### 3)Stepsize/Step- difference between each consecutive number\n",
    "## range function can be called in three ways:\n",
    "### 1) range(stop): will start from 0 with increments of 1 and will go upto (stop-1) \n",
    "### 2) range(start,stop): will start from the start number with increments of 1 and will end at (stop-1)\n",
    "### 3) range(start,stop,step):will start from the start number with increments of stepsize mentioned and will end at (stop-1)\n",
    "## Example:\n"
   ]
  },
  {
   "cell_type": "code",
   "execution_count": 39,
   "metadata": {},
   "outputs": [
    {
     "name": "stdout",
     "output_type": "stream",
     "text": [
      "0, 1, 2, 3, 4, 5, 6, 7, \n",
      "2, 3, 4, 5, 6, 7, 8, 9, \n",
      "2, 7, 12, 17, 22, 27, 32, 37, 42, 47\n"
     ]
    }
   ],
   "source": [
    "# range with 1 argument : range(stop)\n",
    "for i in range(8):\n",
    "    if i<14:\n",
    "        print(i,end=\", \")\n",
    "    else:\n",
    "        print(i)\n",
    "print()\n",
    "# range with 1 argument : range(stop)\n",
    "for i in range(2,10):\n",
    "    if i<10:\n",
    "        print(i,end=\", \")\n",
    "    else:\n",
    "        print(i)\n",
    "print()\n",
    "    # range with 1 argument : range(stop)\n",
    "for i in range(2,50,5):\n",
    "    if i<47:\n",
    "        print(i,end=\", \")\n",
    "    else:\n",
    "        print(i)"
   ]
  },
  {
   "cell_type": "code",
   "execution_count": 37,
   "metadata": {},
   "outputs": [
    {
     "name": "stdout",
     "output_type": "stream",
     "text": [
      "Enter a number:222\n",
      "Enter another number:44\n",
      "On subtracting second number from first we get : 178.0\n",
      "Multiplication is performed,Answer is : 9768.0\n"
     ]
    }
   ],
   "source": [
    "a=float(input(\"Enter a number:\"))\n",
    "b=float(input(\"Enter another number:\"))\n",
    "h=a-b\n",
    "print('On subtracting second number from first we get :',h)\n",
    "c=a*b\n",
    "d=a/b\n",
    "if h>25:\n",
    "    print('Multiplication is performed,Answer is :',c)\n",
    "else:\n",
    "    print('Divison is performed,Answer is :',d)"
   ]
  },
  {
   "cell_type": "code",
   "execution_count": 34,
   "metadata": {
    "scrolled": true
   },
   "outputs": [
    {
     "name": "stdout",
     "output_type": "stream",
     "text": [
      "142\n",
      "5 is not divisible by 2\n",
      "7 is not divisible by 2\n",
      "62\n",
      "482\n",
      "194\n",
      "35 is not divisible by 2\n",
      "67 is not divisible by 2\n",
      "98\n",
      "43 is not divisible by 2\n"
     ]
    }
   ],
   "source": [
    "l=(12,5,7,8,22,14,35,67,10,43)\n",
    "for i in l:\n",
    "    if i%2==0:\n",
    "        print(i**2-2)\n",
    "    else:\n",
    "        print(i,'is not divisible by 2')\n"
   ]
  },
  {
   "cell_type": "code",
   "execution_count": 35,
   "metadata": {},
   "outputs": [
    {
     "name": "stdout",
     "output_type": "stream",
     "text": [
      "112\n",
      "130\n",
      "32\n",
      "98\n",
      "66\n"
     ]
    }
   ],
   "source": [
    "m=(112,130,32,4,8,6,98,12,66,10)\n",
    "for i in m:\n",
    "    if i/2>7:\n",
    "        print(i)"
   ]
  }
 ],
 "metadata": {
  "kernelspec": {
   "display_name": "Python 3",
   "language": "python",
   "name": "python3"
  },
  "language_info": {
   "codemirror_mode": {
    "name": "ipython",
    "version": 3
   },
   "file_extension": ".py",
   "mimetype": "text/x-python",
   "name": "python",
   "nbconvert_exporter": "python",
   "pygments_lexer": "ipython3",
   "version": "3.8.3"
  }
 },
 "nbformat": 4,
 "nbformat_minor": 4
}

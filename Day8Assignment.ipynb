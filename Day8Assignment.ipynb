{
 "cells": [
  {
   "cell_type": "markdown",
   "metadata": {},
   "source": [
    "## The map() function executes a specified function for each item in an iterable. it is a built-in function.\n",
    "## SYNTAX:\n",
    "### map(function, iterables)\n",
    "\n"
   ]
  },
  {
   "cell_type": "code",
   "execution_count": 6,
   "metadata": {},
   "outputs": [
    {
     "name": "stdout",
     "output_type": "stream",
     "text": [
      "<map object at 0x0000026E4E584970>\n",
      "[6, 6, 7, 5, 4]\n"
     ]
    }
   ],
   "source": [
    "#using map() to return length of all words in alist\n",
    "def fun(A):\n",
    "    return(len(A))\n",
    "s=map(fun,['pounds','rupees','dollars','euros','peso'])\n",
    "print(s)\n",
    "print(list(s))\n"
   ]
  },
  {
   "cell_type": "code",
   "execution_count": 9,
   "metadata": {},
   "outputs": [
    {
     "name": "stdout",
     "output_type": "stream",
     "text": [
      "<map object at 0x0000026E4E584F40>\n",
      "(1, 8, 27, 64, 125, 216)\n"
     ]
    }
   ],
   "source": [
    "def cube(a):\n",
    "    return(a**3)\n",
    "sa=map(cube,(1,2,3,4,5,6))\n",
    "print(sa)\n",
    "print(tuple(sa))"
   ]
  },
  {
   "cell_type": "code",
   "execution_count": 11,
   "metadata": {},
   "outputs": [
    {
     "name": "stdout",
     "output_type": "stream",
     "text": [
      "<map object at 0x0000026E4E584250>\n",
      "(8, 15, 30, 60)\n"
     ]
    }
   ],
   "source": [
    "def add(a,b):\n",
    "    return a+b\n",
    "saa=map(add,(10,20,24,40),(-2,-5,6,20))\n",
    "print(saa)\n",
    "print(tuple(saa))"
   ]
  },
  {
   "cell_type": "markdown",
   "metadata": {},
   "source": [
    "## Lamda functions are one time functions also known as anonymous functions.\n",
    "## Syntax\n",
    "### lambda argument/s:expression/s"
   ]
  },
  {
   "cell_type": "code",
   "execution_count": 16,
   "metadata": {},
   "outputs": [
    {
     "data": {
      "text/plain": [
       "4.0"
      ]
     },
     "execution_count": 16,
     "metadata": {},
     "output_type": "execute_result"
    }
   ],
   "source": [
    "a = lambda b,c,d: (b+c)/d\n",
    "a(4,8,3)"
   ]
  },
  {
   "cell_type": "code",
   "execution_count": 21,
   "metadata": {},
   "outputs": [
    {
     "name": "stdout",
     "output_type": "stream",
     "text": [
      "[4.0, 1.0, 10.0, 9.0]\n"
     ]
    }
   ],
   "source": [
    "#using lambda inside map\n",
    "t=(20,5,50,45)\n",
    "print(list(map(lambda x:x/5,t)))\n"
   ]
  },
  {
   "cell_type": "markdown",
   "metadata": {},
   "source": [
    "## Filter is used to filter out iterables depending upon whether the applied condition is true or false.\n",
    "### syntax\n",
    "### filter(function,iterables)"
   ]
  },
  {
   "cell_type": "code",
   "execution_count": 24,
   "metadata": {},
   "outputs": [
    {
     "name": "stdout",
     "output_type": "stream",
     "text": [
      "<filter object at 0x0000026E4E665A30>\n",
      "<class 'filter'>\n",
      "[3, 12, 42, 18, 66, 33]\n"
     ]
    }
   ],
   "source": [
    "def mult3(a):\n",
    "    if a%3==0:\n",
    "        return a\n",
    "# type your code here1*8\n",
    "xo = filter( mult3, [3,12,23,42,18,66,28,31,33])\n",
    "print(xo)\n",
    "print(type(xo))\n",
    "print(list(xo))"
   ]
  },
  {
   "cell_type": "markdown",
   "metadata": {},
   "source": [
    "# Reduce uses the function provided to reduce all the iterables to a single value\n",
    "## syntax\n",
    "## reduce(function,iterables)"
   ]
  },
  {
   "cell_type": "code",
   "execution_count": 26,
   "metadata": {},
   "outputs": [
    {
     "name": "stdout",
     "output_type": "stream",
     "text": [
      "24\n"
     ]
    }
   ],
   "source": [
    "import functools\n",
    "from functools import reduce \n",
    "def mul(a,b):\n",
    "    return a*b\n",
    "x= reduce( mul, [1,2,3,4])\n",
    "\n",
    "print(x)"
   ]
  },
  {
   "cell_type": "markdown",
   "metadata": {},
   "source": [
    "# Classes: They are code blueprint/template which is to be followed in order to generate objects It is a user-defined prototype for an object that defines a set of attributes that characterize any object of the class.They occupy 0 bytes in memory.\n",
    "## Created by using keyword class\n",
    "## Objects are data structures defined by class,it is an instance of the class,it is like a copy of the class.\n"
   ]
  },
  {
   "cell_type": "code",
   "execution_count": 38,
   "metadata": {},
   "outputs": [
    {
     "name": "stdout",
     "output_type": "stream",
     "text": [
      "Total number of people are: 4\n",
      "Name: David ,Country: Austrailia ,Language: English\n",
      "Name: Virat ,Country: India ,Language: Hindi\n",
      "Name: Cristiano ,Country: Portugal ,Language: Portuguese\n",
      "Name: Lionel ,Country: Argentina ,Language: Spanish\n"
     ]
    }
   ],
   "source": [
    "class Person:\n",
    "    perCount=0\n",
    "    def __init__(self, name,country,language):\n",
    "        self.name = name\n",
    "        self.country = country\n",
    "        self.language= language\n",
    "        Person.perCount+=1\n",
    "    print(\"Total number of people are:\", Person.perCount)\n",
    "    def showperson(self):\n",
    "        print(\"Name:\",self.name,\",Country:\",self.country,\",Language:\",self.language)\n",
    "p1 = Person(\"David\", \"Austrailia\",\"English\")\n",
    "p2 = Person(\"Virat\",\"India\",\"Hindi\")\n",
    "p3 = Person(\"Cristiano\",\"Portugal\",\"Portuguese\")\n",
    "p4 = Person(\"Lionel\",\"Argentina\",\"Spanish\")\n",
    "p1.showperson()\n",
    "p2.showperson()\n",
    "p3.showperson()\n",
    "p4.showperson()"
   ]
  }
 ],
 "metadata": {
  "kernelspec": {
   "display_name": "Python 3",
   "language": "python",
   "name": "python3"
  },
  "language_info": {
   "codemirror_mode": {
    "name": "ipython",
    "version": 3
   },
   "file_extension": ".py",
   "mimetype": "text/x-python",
   "name": "python",
   "nbconvert_exporter": "python",
   "pygments_lexer": "ipython3",
   "version": "3.8.3"
  }
 },
 "nbformat": 4,
 "nbformat_minor": 4
}

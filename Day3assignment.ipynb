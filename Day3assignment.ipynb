{
 "cells": [
  {
   "cell_type": "code",
   "execution_count": 7,
   "metadata": {},
   "outputs": [
    {
     "name": "stdout",
     "output_type": "stream",
     "text": [
      "Enter the first complex number:2+2j\n",
      "Enter the second complex number:3+9j\n",
      "Subtraction of the two complex numbers is: (-1-7j)\n"
     ]
    }
   ],
   "source": [
    "a=complex(input('Enter the first complex number:'))\n",
    "b=complex(input('Enter the second complex number:'))\n",
    "c=a-b\n",
    "print(\"Subtraction of the two complex numbers is:\",c)\n"
   ]
  },
  {
   "cell_type": "code",
   "execution_count": 9,
   "metadata": {},
   "outputs": [
    {
     "name": "stdout",
     "output_type": "stream",
     "text": [
      "Enter Number:77\n",
      "Fourth root of 77.0 is 2.962256637665299\n",
      "Fourth root of 77.0 rounded to lower integer is 2\n"
     ]
    }
   ],
   "source": [
    "a=float(input('Enter Number:'))\n",
    "b=a**(1/4)\n",
    "print('Fourth root of',a,'is',b)\n",
    "c=int(b)\n",
    "print('Fourth root of',a,'rounded to lower integer is',c)"
   ]
  },
  {
   "cell_type": "code",
   "execution_count": 2,
   "metadata": {},
   "outputs": [
    {
     "name": "stdout",
     "output_type": "stream",
     "text": [
      "Enter First number:2\n",
      "Enter Second number:3\n",
      "Now First number is 3 and Second number is 2\n"
     ]
    }
   ],
   "source": [
    "a=input('Enter First number:')\n",
    "b=input('Enter Second number:')\n",
    "t=a\n",
    "a=b\n",
    "b=t\n",
    "print('Now First number is',a,\"and Second number is\", b)\n"
   ]
  },
  {
   "cell_type": "code",
   "execution_count": 6,
   "metadata": {},
   "outputs": [
    {
     "name": "stdout",
     "output_type": "stream",
     "text": [
      "Enter First number:2\n",
      "Enter Second number:5\n",
      "First number is  5 and Second number is 2   we see the numbers are swapped\n"
     ]
    }
   ],
   "source": [
    "a=int(input('Enter First number:'))\n",
    "b=int(input('Enter Second number:'))\n",
    "a=a+b\n",
    "b=a-b\n",
    "a=a-b\n",
    "print(\"First number is \",a,'and Second number is',b,'  we see the numbers are swapped')"
   ]
  },
  {
   "cell_type": "code",
   "execution_count": 6,
   "metadata": {},
   "outputs": [
    {
     "name": "stdout",
     "output_type": "stream",
     "text": [
      "Enter Fahrenheit Temperature:99\n",
      "f is 37.22222222222222 degrees and 310.3722222222222 kelvin\n"
     ]
    }
   ],
   "source": [
    "f=float(input('Enter Fahrenheit Temperature:' ))\n",
    "c= (f-32)*(5/9)\n",
    "k= c+273.15\n",
    "print('f is',c,'degrees','and',k,'kelvin')\n"
   ]
  },
  {
   "cell_type": "code",
   "execution_count": 4,
   "metadata": {},
   "outputs": [
    {
     "name": "stdout",
     "output_type": "stream",
     "text": [
      "data type is <class 'int'>\n",
      "data type is <class 'float'>\n",
      "data type is <class 'str'>\n",
      "data type is <class 'complex'>\n",
      "data type is <class 'tuple'>\n",
      "data type is <class 'list'>\n",
      "data type is <class 'bool'>\n"
     ]
    }
   ],
   "source": [
    "a=10\n",
    "b=4.5\n",
    "c='Biscuits'\n",
    "d=2+4j\n",
    "e= (1,0,'Biscuits')\n",
    "f=[2,0,'leave']\n",
    "g=False\n",
    "print('data type is',type(a))\n",
    "print('data type is',type(b))\n",
    "print('data type is',type(c))\n",
    "print('data type is',type(d))\n",
    "print('data type is',type(e))\n",
    "print('data type is',type(f))\n",
    "print('data type is',type(g))"
   ]
  },
  {
   "cell_type": "code",
   "execution_count": null,
   "metadata": {},
   "outputs": [],
   "source": []
  }
 ],
 "metadata": {
  "kernelspec": {
   "display_name": "Python 3",
   "language": "python",
   "name": "python3"
  },
  "language_info": {
   "codemirror_mode": {
    "name": "ipython",
    "version": 3
   },
   "file_extension": ".py",
   "mimetype": "text/x-python",
   "name": "python",
   "nbconvert_exporter": "python",
   "pygments_lexer": "ipython3",
   "version": "3.8.3"
  }
 },
 "nbformat": 4,
 "nbformat_minor": 4
}

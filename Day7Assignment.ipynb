{
 "cells": [
  {
   "cell_type": "code",
   "execution_count": 58,
   "metadata": {},
   "outputs": [],
   "source": [
    "file1 = open(\"text1.txt\", \"r\")\n",
    "file2 = open(\"text2.txt\", \"w\")\n",
    "l = file1.readline()\n",
    "while l:\n",
    "    file2.write(l)\n",
    "    l = file1.readline()\n",
    "file1.close()\n",
    "file2.close()\n",
    "\n"
   ]
  },
  {
   "cell_type": "code",
   "execution_count": 49,
   "metadata": {},
   "outputs": [
    {
     "name": "stdout",
     "output_type": "stream",
     "text": [
      "max value is: 600\n",
      "min value is: 100\n"
     ]
    }
   ],
   "source": [
    "d ={1:100, 2:500, 3:600, 4:200, 5:300, 6:400}\n",
    "print(\"max value is:\", list(sorted(d.values()))[-1])\n",
    "print(\"min value is:\", list(sorted(d.values()))[0])\n"
   ]
  }
 ],
 "metadata": {
  "kernelspec": {
   "display_name": "Python 3",
   "language": "python",
   "name": "python3"
  },
  "language_info": {
   "codemirror_mode": {
    "name": "ipython",
    "version": 3
   },
   "file_extension": ".py",
   "mimetype": "text/x-python",
   "name": "python",
   "nbconvert_exporter": "python",
   "pygments_lexer": "ipython3",
   "version": "3.8.3"
  }
 },
 "nbformat": 4,
 "nbformat_minor": 4
}

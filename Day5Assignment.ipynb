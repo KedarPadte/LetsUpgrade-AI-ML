{
 "cells": [
  {
   "cell_type": "code",
   "execution_count": 31,
   "metadata": {},
   "outputs": [
    {
     "name": "stdout",
     "output_type": "stream",
     "text": [
      "First 20 non even prime numbers are:\n",
      "3  5  7  11  13  17  19  23  29  31  37  41  43  47  53  59  61  67  71  73  "
     ]
    }
   ],
   "source": [
    "print(\"First 20 non even prime numbers are:\")\n",
    "for i in range(3,75): \n",
    "    for j in range(2,i): \n",
    "        if(i % j==0): \n",
    "            break\n",
    "    else: \n",
    "        print(i,end=\"  \")"
   ]
  },
  {
   "cell_type": "code",
   "execution_count": 35,
   "metadata": {},
   "outputs": [
    {
     "name": "stdout",
     "output_type": "stream",
     "text": [
      "1) BISCUITS\n",
      "2) orange\n",
      "3) 28\n",
      "4) Android\n",
      "5) India and Argentina and USA\n",
      "6) True\n",
      "7) True\n",
      "8) True\n",
      "9) wELCOME TO ai/ml batch 2\n",
      "10) True\n",
      "11) 2\n",
      "12) True\n",
      "13) 8\n",
      "14) True\n",
      "15) True\n"
     ]
    }
   ],
   "source": [
    "#1) making strings uppercase with str.upper()\n",
    "a='biscuits'\n",
    "print(\"1)\",a.upper())\n",
    "#2) making strings lowercase with str.lower()\n",
    "b='ORANGE'\n",
    "print(\"2)\",b.lower())\n",
    "#3) returns string length with len()\n",
    "c= 'This is the Day 5 Assignment'\n",
    "print(\"3)\",len(c))\n",
    "#4) Converts first charecter to uppercase with str.capitalize()\n",
    "d='android'\n",
    "print(\"4)\",d.capitalize())\n",
    "#5) Joining operation by join()\n",
    "list=(\"India\",\"Argentina\",\"USA\")\n",
    "print(\"5)\",' and '.join(list))\n",
    "#6) Checking whether string is alphanumeric\n",
    "e='Windows12'\n",
    "print(\"6)\",e.isalnum())\n",
    "#7)Check if all the characters in the text are digits\n",
    "f='207890'\n",
    "print(\"7)\",f.isdigit())\n",
    "#8)Check if all the characters in the text are numeric\n",
    "g='43764837'\n",
    "print(\"8)\",g.isnumeric())\n",
    "#9)Make the lower case letters upper case and the upper case letters lower case with str.swapcase()\n",
    "h='Welcome to AI/ML BATCH 2'\n",
    "print(\"9)\",h.swapcase())\n",
    "#10)Check if all the characters in the text are in upper case\n",
    "i='WINDOWS'\n",
    "print(\"10)\",i.isupper())\n",
    "#11)Returns the number of times a specified value occurs in a string\n",
    "j='mango is his favourite fruit,Everyone loves mango'\n",
    "print(\"11)\",j.count('mango'))\n",
    "#12)Check if all the characters in the text are letters\n",
    "k= 'mangoes'\n",
    "print(\"12)\",k.isalpha())\n",
    "#13)Searches the string for a specified value and returns the position of where it was found\n",
    "l='Welcome to this batch.'\n",
    "print(\"13)\",l.index('to'))\n",
    "#14)Returns true if the string starts with the specified value\n",
    "m=\"Hola,How are you?\"\n",
    "print(\"14)\",m.startswith('Hola'))\n",
    "#15)Returns True if all characters in the string are lower case\n",
    "n=\"desk\"\n",
    "print(\"15)\",n.islower())\n",
    "z='biscuits'"
   ]
  },
  {
   "cell_type": "code",
   "execution_count": 2,
   "metadata": {},
   "outputs": [
    {
     "name": "stdout",
     "output_type": "stream",
     "text": [
      "Enter string:tenet\n",
      "Yes, tenet is a palindrome\n",
      "Enter first string:football\n",
      "Enter second string:llooftab\n",
      "The two strings are anagram of each other\n"
     ]
    }
   ],
   "source": [
    "# program to check string is \n",
    "# palindrome or not \n",
    "def isPalindrome(str): \n",
    "    for i in range(0, int(len(str)/2)): \n",
    "        if str[i] != str[len(str)-i-1]:\n",
    "            return False\n",
    "        return True\n",
    "s = input('Enter string:')\n",
    "ans = isPalindrome(s)\n",
    " \n",
    "if (ans):\n",
    "    print(\"Yes,\",s,\"is a palindrome\")\n",
    "else:\n",
    "    print(\"No,\",s,\"is not a palindrome\")\n",
    "\n",
    "# Python program to check whether two strings are  \n",
    "# anagrams of each other    \n",
    "def Anagram(str1, str2):   \n",
    "    n1 = len(str1)  \n",
    "    n2 = len(str2)    \n",
    "    if n1 != n2:  \n",
    "        return 0\n",
    "    str1 = sorted(str1) \n",
    "    str2 = sorted(str2) \n",
    "  \n",
    "    for i in range(0, n1):  \n",
    "        if str1[i] != str2[i]:  \n",
    "            return 0\n",
    "  \n",
    "    return 1\n",
    "  \n",
    "str1 =input('Enter first string:')\n",
    "str2 = input('Enter second string:')\n",
    "if Anagram(str1, str2):  \n",
    "    print (\"The two strings are anagram of each other\") \n",
    "else:  \n",
    "    print (\"The two strings are not anagram of each other\")\n"
   ]
  },
  {
   "cell_type": "code",
   "execution_count": 7,
   "metadata": {},
   "outputs": [
    {
     "name": "stdout",
     "output_type": "stream",
     "text": [
      "Enter a stringPython @#$%$%^% IS A CODING $#^444LANGUAGE\n",
      "initial string :  Python @#$%$%^% IS A CODING $#^444LANGUAGE\n",
      "final string pythonisacoding444language\n"
     ]
    }
   ],
   "source": [
    "inst = input(\"Enter a string\")\n",
    "def check(arg):\n",
    "    print (\"initial string : \", inst)  \n",
    "    getVals = list([val for val in inst if val.isalnum()]) \n",
    "    result = \"\".join(getVals) \n",
    "    print (\"final string\", result.lower())\n",
    "check(inst)\n"
   ]
  },
  {
   "cell_type": "code",
   "execution_count": null,
   "metadata": {},
   "outputs": [],
   "source": []
  }
 ],
 "metadata": {
  "kernelspec": {
   "display_name": "Python 3",
   "language": "python",
   "name": "python3"
  },
  "language_info": {
   "codemirror_mode": {
    "name": "ipython",
    "version": 3
   },
   "file_extension": ".py",
   "mimetype": "text/x-python",
   "name": "python",
   "nbconvert_exporter": "python",
   "pygments_lexer": "ipython3",
   "version": "3.8.3"
  }
 },
 "nbformat": 4,
 "nbformat_minor": 4
}

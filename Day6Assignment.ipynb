{
 "cells": [
  {
   "cell_type": "code",
   "execution_count": 12,
   "metadata": {},
   "outputs": [
    {
     "name": "stdout",
     "output_type": "stream",
     "text": [
      "Enter Email address:abc@megasoft.com\n",
      "Company name is: megasoft\n"
     ]
    }
   ],
   "source": [
    "s=input(\"Enter Email address:\")\n",
    "k=s.find('@') \n",
    "f=s.index('.')\n",
    "print('Company name is:', s[k+1:f])\n"
   ]
  },
  {
   "cell_type": "code",
   "execution_count": 39,
   "metadata": {},
   "outputs": [
    {
     "name": "stdout",
     "output_type": "stream",
     "text": [
      "enter data to sort:zebra,monkey,tiger,cheetah,panda,elephant,bear\n",
      "Sorted data are : bear, cheetah, elephant, monkey, panda, tiger, zebra\n"
     ]
    }
   ],
   "source": [
    "animals=[a for a in input(\"enter data to sort:\").split(',')]\n",
    "animals.sort()\n",
    "print (\"Sorted data are :\",', '.join(animals))\n"
   ]
  },
  {
   "cell_type": "markdown",
   "metadata": {},
   "source": [
    "#  A Set is an unordered collection data type that is iterable, mutable and has no duplicate elements.It is enclosed in curly brackets{}"
   ]
  },
  {
   "cell_type": "code",
   "execution_count": 78,
   "metadata": {},
   "outputs": [
    {
     "name": "stdout",
     "output_type": "stream",
     "text": [
      "{1, 2, 3, 4, 5, 6}\n",
      "{1, 2, 3, 4, 5, 6, 7, 8, 9, 10}\n",
      "10\n",
      "{1, 2, 3, 4, 5, 6, 7, 8, 10}\n",
      "{2, 3, 4, 5, 6, 7, 8, 10}\n",
      "set()\n",
      "{'fox', 'goat', 'shark', 'lion', 'elephant', 'buffalo', 'monkey', 'zebra', 'whale'}\n"
     ]
    },
    {
     "data": {
      "text/plain": [
       "{'elephant', 'lion', 'monkey', 'zebra'}"
      ]
     },
     "execution_count": 78,
     "metadata": {},
     "output_type": "execute_result"
    }
   ],
   "source": [
    "#set creation\n",
    "set1 = {1,2,3,4,5,6}\n",
    "print(set1)\n",
    "#adding to a set only 1 item\n",
    "set1.add(7)\n",
    "#To add more than one item to a set\n",
    "set1.update({7,8,9,10})\n",
    "print(set1)\n",
    "# set length\n",
    "a=len(set1)\n",
    "print(a)\n",
    "#Remove Item from set\n",
    "set1.remove(9)\n",
    "print(set1)\n",
    "#pop() removes last item of set,as sets are unordered ,it is not necessary that the last item will be removed\n",
    "set1.pop()\n",
    "print(set1)\n",
    "# emptying the set\n",
    "set1.clear()\n",
    "print(set1)\n",
    "#deleting set entirely\n",
    "del set1\n",
    "#joining 2 sets\n",
    "set1={'zebra','monkey','elephant','lion'}\n",
    "set2={'shark','whale','buffalo','goat','fox'}\n",
    "set3=set1.union(set2)\n",
    "print(set3)\n",
    "#to check difference between sets\n",
    "set1.difference(set2)"
   ]
  },
  {
   "cell_type": "code",
   "execution_count": 40,
   "metadata": {},
   "outputs": [
    {
     "name": "stdout",
     "output_type": "stream",
     "text": [
      "9\n"
     ]
    }
   ],
   "source": [
    "def missingno(n):\n",
    "    x= len(n)\n",
    "    tot= (x+1)*(x+2)/2\n",
    "    sum_=sum(n)\n",
    "    return tot-sum_\n",
    "n=[1,2,3,4,5,6,7,8,10,11]\n",
    "m = missingno(n)\n",
    "print(int(m))\n"
   ]
  },
  {
   "cell_type": "code",
   "execution_count": 51,
   "metadata": {},
   "outputs": [
    {
     "name": "stdout",
     "output_type": "stream",
     "text": [
      "[100, 400, 240, 500, 200, 800]\n"
     ]
    }
   ],
   "source": [
    "def rem(dup): \n",
    "    newlist = [] \n",
    "    for num in dup: \n",
    "        if num not in newlist: \n",
    "            newlist.append(num) \n",
    "    return newlist \n",
    "      \n",
    "\n",
    "dup = [100, 400, 100, 240, 500, 200, 240, 400, 100, 400,800] \n",
    "print(rem(dup)) "
   ]
  }
 ],
 "metadata": {
  "kernelspec": {
   "display_name": "Python 3",
   "language": "python",
   "name": "python3"
  },
  "language_info": {
   "codemirror_mode": {
    "name": "ipython",
    "version": 3
   },
   "file_extension": ".py",
   "mimetype": "text/x-python",
   "name": "python",
   "nbconvert_exporter": "python",
   "pygments_lexer": "ipython3",
   "version": "3.8.3"
  }
 },
 "nbformat": 4,
 "nbformat_minor": 4
}
